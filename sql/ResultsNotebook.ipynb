{
 "cells": [
  {
   "cell_type": "code",
   "execution_count": 1,
   "metadata": {},
   "outputs": [
    {
     "name": "stdout",
     "output_type": "stream",
     "text": [
      "/home/ibadski/Desktop/sensyne_health_ml_engineer/mushrooms_database.db\n"
     ]
    }
   ],
   "source": [
    "import pandas as pd\n",
    "import sqlite3\n",
    "import os\n",
    "from pathlib import Path\n",
    "home_dir=Path(os.getcwd()).parent\n",
    "\n",
    "db_path=os.path.join(home_dir, 'mushrooms_database.db')\n",
    "print (db_path)\n",
    "if os.path.exists(db_path):\n",
    "    con=sqlite3.connect(db_path)\n",
    "else:\n",
    "    print (\"mushrooms_database.db does not exist please check the db_path\")\n"
   ]
  },
  {
   "cell_type": "markdown",
   "metadata": {},
   "source": [
    "### Different Species identified by attributes 1-20"
   ]
  },
  {
   "cell_type": "code",
   "execution_count": 2,
   "metadata": {},
   "outputs": [
    {
     "name": "stdout",
     "output_type": "stream",
     "text": [
      "['almond', 'anise', 'bell', 'black', 'broad', 'brown', 'buff', 'chocolate', 'cinnamon', 'conical', 'convex', 'creosote', 'evanescent', 'fishy', 'flaring', 'flat', 'foul', 'gray', 'green', 'knobbed', 'large', 'musty', 'narrow', 'none', 'orange', 'pendant', 'pink', 'pungent', 'purple', 'red', 'spicy', 'sunken', 'white', 'yellow']\n"
     ]
    }
   ],
   "source": [
    "Q1='''\n",
    "select cap_shape_id  from mushrooms union \n",
    "select cap_color_id from mushrooms UNION \n",
    "select odor_id from mushrooms UNION\n",
    "select gill_size_id from mushrooms UNION\n",
    "select stalk_color_above_ring_id FROM mushrooms UNION\n",
    "select veil_color_id from mushrooms UNION\n",
    "select ring_type_id from mushrooms UNION\n",
    "select spore_print_color_id from mushrooms\n",
    "'''\n",
    "df=pd.read_sql_query(Q1,con)\n",
    "\n",
    "print (sorted(df['cap_shape_id'].values))"
   ]
  },
  {
   "cell_type": "markdown",
   "metadata": {},
   "source": [
    "### Correlation between habitat and cap-color\n",
    "#### Because both of them are categorical values hence we first get the data grouped by each of it then with that create the contingency table\n",
    "#### Then we perform Chi-Square  "
   ]
  },
  {
   "cell_type": "code",
   "execution_count": 3,
   "metadata": {},
   "outputs": [],
   "source": [
    "Q2='''select habitat_id, cap_color_id,\n",
    "count(*) as count \n",
    "from mushrooms\n",
    "group by habitat_id, cap_color_id\n",
    "'''\n",
    "\n",
    "df=pd.read_sql_query(Q2,con)"
   ]
  },
  {
   "cell_type": "code",
   "execution_count": 4,
   "metadata": {},
   "outputs": [
    {
     "name": "stdout",
     "output_type": "stream",
     "text": [
      "          grasses  leaves  meadows  paths  urban  waste  woods\n",
      "brown         368     504        0    352    112     48    900\n",
      "buff           60       0       12      0     48     48      0\n",
      "cinnamon        0      24        0      8      0      0     12\n",
      "gray          664       0        0    224     96      0    856\n",
      "green           0       0        0      0      0      0     16\n",
      "pink           12       0       12      8      0     48     64\n",
      "purple          0       0        0      0      0      0     16\n",
      "red             0     288        0    288      0     48    876\n",
      "white         652       8      140      0    112      0    128\n",
      "yellow        392       8      128    264      0      0    280\n"
     ]
    }
   ],
   "source": [
    "habitat_values=sorted(list(set(list(df['habitat_id'].values))))\n",
    "cap_color_values=sorted(list(set(list(df['cap_color_id'].values))))\n",
    "\n",
    "cont_data={}\n",
    "for val in habitat_values:\n",
    "    cont_data[val]=[0 for i in range(len(cap_color_values))]\n",
    "    \n",
    "\n",
    "contingency_df=pd.DataFrame(cont_data,index=cap_color_values)\n",
    "\n",
    "for i,x in df.iterrows():\n",
    "    hab=x['habitat_id']\n",
    "    cap=x['cap_color_id']\n",
    "    count=x['count']\n",
    "    contingency_df.loc[cap][hab]=count\n",
    "print (contingency_df)"
   ]
  },
  {
   "cell_type": "markdown",
   "metadata": {},
   "source": [
    "### We now perform the Chi Square Test on the categorical values to find the p value. "
   ]
  },
  {
   "cell_type": "code",
   "execution_count": 5,
   "metadata": {},
   "outputs": [
    {
     "name": "stdout",
     "output_type": "stream",
     "text": [
      "P Value is  0.0\n",
      "Degree of Freedom is :  54\n"
     ]
    }
   ],
   "source": [
    "from scipy.stats import chi2_contingency\n",
    "import numpy as np\n",
    "c, p, dof, expected = chi2_contingency(contingency_df.values, correction=False)\n",
    "print (\"P Value is \", p)\n",
    "print (\"Degree of Freedom is : \", dof)\n",
    "#Since there are total 7 columns and 10 rows hence dof is (r-1)(c-1)"
   ]
  },
  {
   "cell_type": "markdown",
   "metadata": {},
   "source": [
    "## Since P value is 0 hence it means that means we can reject the null hypothesis and that habitat and cap-color are dependant\n",
    "\n",
    "### We perform another test which is Crammer V to further strenghten our argument"
   ]
  },
  {
   "cell_type": "code",
   "execution_count": 6,
   "metadata": {},
   "outputs": [
    {
     "name": "stdout",
     "output_type": "stream",
     "text": [
      "0.3267789015188318\n"
     ]
    }
   ],
   "source": [
    "n = np.sum(contingency_df.values)\n",
    "minDim = min(contingency_df.values.shape)-1\n",
    "V = np.sqrt((c/n) / minDim)\n",
    "print (V)"
   ]
  },
  {
   "cell_type": "markdown",
   "metadata": {},
   "source": [
    "### The above value clear that there is a weak positive correlation between Habitat and cap-color"
   ]
  },
  {
   "cell_type": "markdown",
   "metadata": {},
   "source": [
    "### q3 Considering a specific geographical point, what colours should we be able to see in the 10 km around it?\n",
    "#### This seems a little confusing as there isnt any specific geographical point specified and there is no distance metric in the table\n",
    "#### for this question i will assume that by geographical point it means habitat that either its grasses, meadows etc.\n",
    "#### for the colours i will assume it is the cap-color.\n",
    "#### for this question i will try to find that which colours are more prominent for each geographical region\n",
    "### for this the same query as Q2 will do the job since we have already executed it hence we will go directly towards visualisations"
   ]
  },
  {
   "cell_type": "code",
   "execution_count": 7,
   "metadata": {},
   "outputs": [],
   "source": [
    "habitats_unique=list(set(df['habitat_id'].values))\n",
    "count_dict={}\n",
    "for x in habitats_unique:\n",
    "    newdf=df[df['habitat_id']==x]\n",
    "    newdf=newdf[['cap_color_id','count']].sort_values('count', ascending=False)\n",
    "    count_dict[x]={item['cap_color_id']:item['count'] for i, item in newdf.iterrows()}\n",
    "    "
   ]
  },
  {
   "cell_type": "code",
   "execution_count": 8,
   "metadata": {},
   "outputs": [],
   "source": [
    "import matplotlib.pyplot as plt\n",
    "%matplotlib inline\n",
    "def plot_graph(habitat_val):\n",
    "    keys=count_dict[habitat_val].keys()\n",
    "    values=count_dict[habitat_val].values()\n",
    "    plt.clf()\n",
    "    plt.bar(keys,values)\n",
    "    plt.xticks(rotation=80)\n",
    "    plt.title(\"Bar Chart for \"+habitat_val+\" with count of each color\")\n",
    "    plt.show()"
   ]
  },
  {
   "cell_type": "code",
   "execution_count": 9,
   "metadata": {},
   "outputs": [
    {
     "data": {
      "image/png": "[encoded data removed]",
      "text/plain": [
       "<Figure size 432x288 with 1 Axes>"
      ]
     },
     "metadata": {
      "needs_background": "light"
     },
     "output_type": "display_data"
    }
   ],
   "source": [
    "plot_graph('leaves')"
   ]
  },
  {
   "cell_type": "markdown",
   "metadata": {},
   "source": [
    "#### it can be seen ABOVE that brown is the color we are more likely to see in the leaves habitat"
   ]
  },
  {
   "cell_type": "code",
   "execution_count": 10,
   "metadata": {},
   "outputs": [
    {
     "data": {
      "image/png": "[encoded data removed]",
      "text/plain": [
       "<Figure size 432x288 with 1 Axes>"
      ]
     },
     "metadata": {
      "needs_background": "light"
     },
     "output_type": "display_data"
    }
   ],
   "source": [
    "plot_graph('grasses')"
   ]
  },
  {
   "cell_type": "markdown",
   "metadata": {},
   "source": [
    "#### it can be seen ABOVE that gray is the color we are more likely to see in the grasses habitat"
   ]
  },
  {
   "cell_type": "code",
   "execution_count": 11,
   "metadata": {},
   "outputs": [
    {
     "data": {
      "image/png": "[encoded data removed]",
      "text/plain": [
       "<Figure size 432x288 with 1 Axes>"
      ]
     },
     "metadata": {
      "needs_background": "light"
     },
     "output_type": "display_data"
    }
   ],
   "source": [
    "plot_graph('meadows')"
   ]
  },
  {
   "cell_type": "markdown",
   "metadata": {},
   "source": [
    "#### it can be seen ABOVE that white is the color we are more likely to see in the meadows habitat"
   ]
  },
  {
   "cell_type": "code",
   "execution_count": 12,
   "metadata": {},
   "outputs": [
    {
     "data": {
      "image/png": "[encoded data removed]",
      "text/plain": [
       "<Figure size 432x288 with 1 Axes>"
      ]
     },
     "metadata": {
      "needs_background": "light"
     },
     "output_type": "display_data"
    }
   ],
   "source": [
    "plot_graph('paths')"
   ]
  },
  {
   "cell_type": "markdown",
   "metadata": {},
   "source": [
    "#### it can be seen ABOVE that brown is the color we are more likely to see in the paths habitat"
   ]
  },
  {
   "cell_type": "code",
   "execution_count": 13,
   "metadata": {},
   "outputs": [
    {
     "data": {
      "image/png": "[encoded data removed]",
      "text/plain": [
       "<Figure size 432x288 with 1 Axes>"
      ]
     },
     "metadata": {
      "needs_background": "light"
     },
     "output_type": "display_data"
    }
   ],
   "source": [
    "plot_graph('urban')"
   ]
  },
  {
   "cell_type": "markdown",
   "metadata": {},
   "source": [
    "#### it can be seen ABOVE that brown is the color we are more likely to see in the urban habitat"
   ]
  },
  {
   "cell_type": "code",
   "execution_count": 14,
   "metadata": {},
   "outputs": [
    {
     "data": {
      "image/png": "[encoded data removed]",
      "text/plain": [
       "<Figure size 432x288 with 1 Axes>"
      ]
     },
     "metadata": {
      "needs_background": "light"
     },
     "output_type": "display_data"
    }
   ],
   "source": [
    "plot_graph('waste')"
   ]
  },
  {
   "cell_type": "markdown",
   "metadata": {},
   "source": [
    "#### it can be seen ABOVE that all colours are equally likely in waste habitat"
   ]
  },
  {
   "cell_type": "code",
   "execution_count": 15,
   "metadata": {},
   "outputs": [
    {
     "data": {
      "image/png": "[encoded data removed]",
      "text/plain": [
       "<Figure size 432x288 with 1 Axes>"
      ]
     },
     "metadata": {
      "needs_background": "light"
     },
     "output_type": "display_data"
    }
   ],
   "source": [
    "plot_graph('woods')"
   ]
  },
  {
   "cell_type": "markdown",
   "metadata": {},
   "source": [
    "#### it can be seen ABOVE that brown, red and gray is the color we are more likely to see in the woods habitat"
   ]
  }
 ],
 "metadata": {
  "kernelspec": {
   "display_name": "Python [conda env:tempo]",
   "language": "python",
   "name": "conda-env-tempo-py"
  },
  "language_info": {
   "codemirror_mode": {
    "name": "ipython",
    "version": 3
   },
   "file_extension": ".py",
   "mimetype": "text/x-python",
   "name": "python",
   "nbconvert_exporter": "python",
   "pygments_lexer": "ipython3",
   "version": "3.8.8"
  }
 },
 "nbformat": 4,
 "nbformat_minor": 4
}
